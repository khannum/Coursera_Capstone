{
    "cells": [
        {
            "metadata": {
                "collapsed": true
            },
            "cell_type": "markdown",
            "source": "# Coursera Capstion - Washington DC Appartments\n\nCapstone Project for the IBM Data Science Professional Certificate.\n\n## 1.0 Introduction:\n\nWashington DC is known for being one of the most culturally diverse cities in the UNited States. With so many individuals coming from all around the globe for work purposes, many communities have found homes in the Disctrict over the years. A fantastic side effect of this cultural diversity is that you can find cuisine of almost any variety reporesented here.\n\nThe goal of this project is to identify appartments around DC that have the bests food options available and what similar appartments can be grouped together.\n\n### 1.1 Problem\n\nIf I am an individual moving to DC and I want to know how to which appartment building will give me the best dining options how would I do it? \n\nTo solve this problem we will need several things:\n\n- Data of appartments in the DC area\n- Data of different food venues around these appartments\n- A way to analyze said data\n    \n### 1.2 Data \n\nThe data that will be used to address the above problem will come from 2 different sources:\n\n1. The [Basic Business Licenses](https://opendata.dc.gov/datasets/basic-business-licenses/data)  data from the local DC government. The City of DC has large datasets that are available to the public. These data cover a variety of interesting topics and in our case we will use a set that contains information on businesses liscensed in the city. An appartment is a business and so we will be able to filter or just the DC area appartment buildings\n2. Venue data form [Foursquare API](https://developer.foursquare.com/docs). We will find the top venues for each appartment by leveraging the Foursquare API. We can set parameters to gather only data on food venues to tailor our results to the problem.\n"
        }
    ],
    "metadata": {
        "kernelspec": {
            "name": "python3",
            "display_name": "Python 3.6",
            "language": "python"
        },
        "language_info": {
            "name": "python",
            "version": "3.6.9",
            "mimetype": "text/x-python",
            "codemirror_mode": {
                "name": "ipython",
                "version": 3
            },
            "pygments_lexer": "ipython3",
            "nbconvert_exporter": "python",
            "file_extension": ".py"
        }
    },
    "nbformat": 4,
    "nbformat_minor": 1
}
