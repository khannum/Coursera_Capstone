{
    "cells": [
        {
            "metadata": {
                "collapsed": true
            },
            "cell_type": "markdown",
            "source": "# IBM Capstone\n\n\n## Introduction\n\nThis notebook will be the primary workspace for my IBM Professional Certification Capstone project."
        },
        {
            "metadata": {},
            "cell_type": "markdown",
            "source": "## Toronto Neighbourhoods\n\nSection 1 of this project involves retrieving data on the city of Toronto.\nThe data was gathered off of wikipedia and is formatted to show each postal code w"
        },
        {
            "metadata": {},
            "cell_type": "code",
            "source": "# Import Libraries and get data frame\nimport pandas as pd\nimport numpy as np\n\ndf = pd.read_html(\"https://en.wikipedia.org/wiki/List_of_postal_codes_of_Canada:_M\")[0]\ndf = df.rename(columns={'Postcode':'PostalCode'}, inplace=False)",
            "execution_count": 133,
            "outputs": []
        },
        {
            "metadata": {},
            "cell_type": "code",
            "source": "#Remove Not assigned boroughs\ndf = df[df.Borough != 'Not assigned']\n\n#Assign Neighbourhoods when boroughs are unassigned\ndf['Neighbourhood'] = np.where(df['Neighbourhood'] == 'Not assigned', df['Borough'], df['Neighbourhood'])\n\n#Group the neighbourhood column\ngrouped_pc_df = df.groupby([\"PostalCode\", \"Borough\"])['Neighbourhood'].apply(lambda tags: \",\".join(tags))\ngrouped_pc_df = grouped_pc_df.reset_index()\n#grouped_pc_df\ngrouped_pc_df.shape",
            "execution_count": 132,
            "outputs": [
                {
                    "output_type": "execute_result",
                    "execution_count": 132,
                    "data": {
                        "text/plain": "(103, 3)"
                    },
                    "metadata": {}
                }
            ]
        }
    ],
    "metadata": {
        "kernelspec": {
            "name": "python3",
            "display_name": "Python 3.6",
            "language": "python"
        },
        "language_info": {
            "name": "python",
            "version": "3.6.9",
            "mimetype": "text/x-python",
            "codemirror_mode": {
                "name": "ipython",
                "version": 3
            },
            "pygments_lexer": "ipython3",
            "nbconvert_exporter": "python",
            "file_extension": ".py"
        }
    },
    "nbformat": 4,
    "nbformat_minor": 1
}